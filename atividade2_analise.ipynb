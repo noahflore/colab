{
  "nbformat": 4,
  "nbformat_minor": 0,
  "metadata": {
    "colab": {
      "provenance": [],
      "authorship_tag": "ABX9TyMXp36CWTPTNJjeWOVfnxNy"
    },
    "kernelspec": {
      "name": "python3",
      "display_name": "Python 3"
    },
    "language_info": {
      "name": "python"
    }
  },
  "cells": [
    {
      "cell_type": "markdown",
      "source": [
        "analisando Dataset de celulares, nesse exemplo vou usar o pandas para entende do que se tratar o cnoteúdo sem usar referência externa\n",
        "\n",
        "## o arquivo foi baixado do kaggle"
      ],
      "metadata": {
        "id": "vWMvdT-mUCSs"
      }
    },
    {
      "cell_type": "code",
      "execution_count": null,
      "metadata": {
        "id": "FCvvvN8iT3Qr",
        "colab": {
          "base_uri": "https://localhost:8080/"
        },
        "outputId": "415ff772-623c-4d1c-d6a4-9c7b10f0fa1f"
      },
      "outputs": [
        {
          "output_type": "stream",
          "name": "stdout",
          "text": [
            "ISO-8859-1\n"
          ]
        }
      ],
      "source": [
        "import pandas as pd\n",
        "\n",
        "import chardet\n",
        "\n",
        "with open(\"/content/Mobiles Dataset (2025).csv\", 'rb') as f:\n",
        "    result = chardet.detect(f.read())\n",
        "print(result['encoding'])\n",
        "\n",
        "df = pd.read_csv(\"/content/Mobiles Dataset (2025).csv\", encoding=result['encoding'])"
      ]
    },
    {
      "cell_type": "markdown",
      "source": [
        "foi indentificado que o arquivo possui uma codificação diferente do utf-8"
      ],
      "metadata": {
        "id": "jeGhw3AJlCai"
      }
    },
    {
      "cell_type": "code",
      "source": [
        "print(df.head()) # lendo o cabeçalho\n",
        "print(\"\\n---------------------------------\")\n",
        "print(df.describe()) #lendo a descrição\n",
        "print(\"\\n---------------------------------\")\n",
        "print(df.info()) #lendo a informação"
      ],
      "metadata": {
        "id": "hD5nzkCGUOQv",
        "colab": {
          "base_uri": "https://localhost:8080/"
        },
        "outputId": "589ce490-806a-4194-ce7b-903b790b741d"
      },
      "execution_count": null,
      "outputs": [
        {
          "output_type": "stream",
          "name": "stdout",
          "text": [
            "  Company Name            Model Name Mobile Weight  RAM Front Camera  \\\n",
            "0        Apple       iPhone 16 128GB          174g  6GB         12MP   \n",
            "1        Apple       iPhone 16 256GB          174g  6GB         12MP   \n",
            "2        Apple       iPhone 16 512GB          174g  6GB         12MP   \n",
            "3        Apple  iPhone 16 Plus 128GB          203g  6GB         12MP   \n",
            "4        Apple  iPhone 16 Plus 256GB          203g  6GB         12MP   \n",
            "\n",
            "  Back Camera   Processor Battery Capacity Screen Size  \\\n",
            "0        48MP  A17 Bionic         3,600mAh  6.1 inches   \n",
            "1        48MP  A17 Bionic         3,600mAh  6.1 inches   \n",
            "2        48MP  A17 Bionic         3,600mAh  6.1 inches   \n",
            "3        48MP  A17 Bionic         4,200mAh  6.7 inches   \n",
            "4        48MP  A17 Bionic         4,200mAh  6.7 inches   \n",
            "\n",
            "  Launched Price (Pakistan) Launched Price (India) Launched Price (China)  \\\n",
            "0               PKR 224,999             INR 79,999              CNY 5,799   \n",
            "1               PKR 234,999             INR 84,999              CNY 6,099   \n",
            "2               PKR 244,999             INR 89,999              CNY 6,499   \n",
            "3               PKR 249,999             INR 89,999              CNY 6,199   \n",
            "4               PKR 259,999             INR 94,999              CNY 6,499   \n",
            "\n",
            "  Launched Price (USA) Launched Price (Dubai)  Launched Year  \n",
            "0              USD 799              AED 2,799           2024  \n",
            "1              USD 849              AED 2,999           2024  \n",
            "2              USD 899              AED 3,199           2024  \n",
            "3              USD 899              AED 3,199           2024  \n",
            "4              USD 949              AED 3,399           2024  \n",
            "\n",
            "---------------------------------\n",
            "       Launched Year\n",
            "count     930.000000\n",
            "mean     2022.193548\n",
            "std         1.862080\n",
            "min      2014.000000\n",
            "25%      2021.000000\n",
            "50%      2023.000000\n",
            "75%      2024.000000\n",
            "max      2025.000000\n",
            "\n",
            "---------------------------------\n",
            "<class 'pandas.core.frame.DataFrame'>\n",
            "RangeIndex: 930 entries, 0 to 929\n",
            "Data columns (total 15 columns):\n",
            " #   Column                     Non-Null Count  Dtype \n",
            "---  ------                     --------------  ----- \n",
            " 0   Company Name               930 non-null    object\n",
            " 1   Model Name                 930 non-null    object\n",
            " 2   Mobile Weight              930 non-null    object\n",
            " 3   RAM                        930 non-null    object\n",
            " 4   Front Camera               930 non-null    object\n",
            " 5   Back Camera                930 non-null    object\n",
            " 6   Processor                  930 non-null    object\n",
            " 7   Battery Capacity           930 non-null    object\n",
            " 8   Screen Size                930 non-null    object\n",
            " 9   Launched Price (Pakistan)  930 non-null    object\n",
            " 10  Launched Price (India)     930 non-null    object\n",
            " 11  Launched Price (China)     930 non-null    object\n",
            " 12  Launched Price (USA)       930 non-null    object\n",
            " 13  Launched Price (Dubai)     930 non-null    object\n",
            " 14  Launched Year              930 non-null    int64 \n",
            "dtypes: int64(1), object(14)\n",
            "memory usage: 109.1+ KB\n",
            "None\n"
          ]
        }
      ]
    },
    {
      "cell_type": "markdown",
      "source": [
        "pelo resultado podemos analisa que se tratar de uma listas de smartphones que foram lançados em 2024 mas podemos fazer uma analise profunda porém devemos verificar a qualidade dos dados , cehcando se tem nulos, redudantes e faltantes"
      ],
      "metadata": {
        "id": "xVN2ixc_naPG"
      }
    },
    {
      "cell_type": "code",
      "source": [
        "# Mostra a quantidade de valores nulos em cada coluna\n",
        "print(df.isnull().sum())\n",
        "\n",
        "# Mostra a porcentagem de valores nulos em cada coluna\n",
        "print(df.isnull().mean() * 100)"
      ],
      "metadata": {
        "id": "rLgPPE8zm11q",
        "colab": {
          "base_uri": "https://localhost:8080/"
        },
        "outputId": "2ffcb291-a3b8-4bd3-8fd1-b5c6adfe040b"
      },
      "execution_count": null,
      "outputs": [
        {
          "output_type": "stream",
          "name": "stdout",
          "text": [
            "Company Name                 0\n",
            "Model Name                   0\n",
            "Mobile Weight                0\n",
            "RAM                          0\n",
            "Front Camera                 0\n",
            "Back Camera                  0\n",
            "Processor                    0\n",
            "Battery Capacity             0\n",
            "Screen Size                  0\n",
            "Launched Price (Pakistan)    0\n",
            "Launched Price (India)       0\n",
            "Launched Price (China)       0\n",
            "Launched Price (USA)         0\n",
            "Launched Price (Dubai)       0\n",
            "Launched Year                0\n",
            "dtype: int64\n",
            "Company Name                 0.0\n",
            "Model Name                   0.0\n",
            "Mobile Weight                0.0\n",
            "RAM                          0.0\n",
            "Front Camera                 0.0\n",
            "Back Camera                  0.0\n",
            "Processor                    0.0\n",
            "Battery Capacity             0.0\n",
            "Screen Size                  0.0\n",
            "Launched Price (Pakistan)    0.0\n",
            "Launched Price (India)       0.0\n",
            "Launched Price (China)       0.0\n",
            "Launched Price (USA)         0.0\n",
            "Launched Price (Dubai)       0.0\n",
            "Launched Year                0.0\n",
            "dtype: float64\n"
          ]
        }
      ]
    },
    {
      "cell_type": "code",
      "source": [
        "# Retorna o número de linhas duplicadas\n",
        "print(df.duplicated().sum())\n",
        "print(\"\\n-------------------------\")\n",
        "\n",
        "# Mostra todas as linhas duplicadas\n",
        "print(df[df.duplicated(keep=False)])"
      ],
      "metadata": {
        "colab": {
          "base_uri": "https://localhost:8080/"
        },
        "id": "2qWmXyTH4_5i",
        "outputId": "9001fd7d-5276-4cac-a639-f6b1b63cb595"
      },
      "execution_count": null,
      "outputs": [
        {
          "output_type": "stream",
          "name": "stdout",
          "text": [
            "15\n",
            "\n",
            "-------------------------\n",
            "    Company Name        Model Name Mobile Weight   RAM Front Camera  \\\n",
            "344         Oppo          A3 128GB          186g   4GB          5MP   \n",
            "347         Oppo          A3 128GB          186g   4GB          5MP   \n",
            "423         Oppo        K11x 128GB          195g   8GB         16MP   \n",
            "424         Oppo        K11x 256GB          195g  12GB         16MP   \n",
            "425         Oppo        K10x 128GB          195g   6GB         16MP   \n",
            "426         Oppo        K10x 256GB          195g   8GB         16MP   \n",
            "427         Oppo      K10 5G 128GB          205g   8GB         16MP   \n",
            "428         Oppo         K9x 128GB          194g   6GB         16MP   \n",
            "429         Oppo         K9x 256GB          194g   8GB         16MP   \n",
            "430         Oppo   K9 Pro 5G 128GB          180g   8GB         16MP   \n",
            "431         Oppo   K9 Pro 5G 256GB          180g  12GB         16MP   \n",
            "432         Oppo       K9 5G 128GB          172g   8GB         32MP   \n",
            "433         Oppo       K9 5G 256GB          172g   8GB         32MP   \n",
            "434         Oppo         K7x 128GB          194g   6GB         16MP   \n",
            "435         Oppo       K7 5G 128GB          180g   8GB         32MP   \n",
            "437         Oppo        K11x 128GB          195g   8GB         16MP   \n",
            "438         Oppo        K11x 256GB          195g  12GB         16MP   \n",
            "441         Oppo        K10x 128GB          195g   6GB         16MP   \n",
            "442         Oppo        K10x 256GB          195g   8GB         16MP   \n",
            "443         Oppo      K10 5G 128GB          205g   8GB         16MP   \n",
            "445         Oppo         K9x 128GB          194g   6GB         16MP   \n",
            "446         Oppo         K9x 256GB          194g   8GB         16MP   \n",
            "447         Oppo   K9 Pro 5G 128GB          180g   8GB         16MP   \n",
            "448         Oppo   K9 Pro 5G 256GB          180g  12GB         16MP   \n",
            "449         Oppo       K9 5G 128GB          172g   8GB         32MP   \n",
            "450         Oppo       K9 5G 256GB          172g   8GB         32MP   \n",
            "451         Oppo         K7x 128GB          194g   6GB         16MP   \n",
            "452         Oppo       K7 5G 128GB          180g   8GB         32MP   \n",
            "791      Infinix  Hot 10 Lite 64GB          195g   3GB          8MP   \n",
            "798      Infinix  Hot 10 Lite 64GB          195g   3GB          8MP   \n",
            "\n",
            "                Back Camera                    Processor Battery Capacity  \\\n",
            "344                    50MP       Snapdragon 6s 4G Gen 1          5000mAh   \n",
            "347                    50MP       Snapdragon 6s 4G Gen 1          5000mAh   \n",
            "423             108MP + 2MP      Qualcomm Snapdragon 695         5,000mAh   \n",
            "424             108MP + 2MP      Qualcomm Snapdragon 695         5,000mAh   \n",
            "425        64MP + 2MP + 2MP      Qualcomm Snapdragon 695         5,000mAh   \n",
            "426        64MP + 2MP + 2MP      Qualcomm Snapdragon 695         5,000mAh   \n",
            "427        64MP + 8MP + 2MP  MediaTek Dimensity 8000-Max         5,000mAh   \n",
            "428        64MP + 2MP + 2MP       MediaTek Dimensity 810         5,000mAh   \n",
            "429        64MP + 2MP + 2MP       MediaTek Dimensity 810         5,000mAh   \n",
            "430        64MP + 8MP + 2MP      MediaTek Dimensity 1200         4,500mAh   \n",
            "431        64MP + 8MP + 2MP      MediaTek Dimensity 1200         4,500mAh   \n",
            "432        64MP + 8MP + 2MP     Qualcomm Snapdragon 768G         4,300mAh   \n",
            "433        64MP + 8MP + 2MP     Qualcomm Snapdragon 768G         4,300mAh   \n",
            "434  48MP + 8MP + 2MP + 2MP       MediaTek Dimensity 720         5,000mAh   \n",
            "435  48MP + 8MP + 2MP + 2MP     Qualcomm Snapdragon 765G         4,025mAh   \n",
            "437             108MP + 2MP      Qualcomm Snapdragon 695         5,000mAh   \n",
            "438             108MP + 2MP      Qualcomm Snapdragon 695         5,000mAh   \n",
            "441        64MP + 2MP + 2MP      Qualcomm Snapdragon 695         5,000mAh   \n",
            "442        64MP + 2MP + 2MP      Qualcomm Snapdragon 695         5,000mAh   \n",
            "443        64MP + 8MP + 2MP  MediaTek Dimensity 8000-Max         5,000mAh   \n",
            "445        64MP + 2MP + 2MP       MediaTek Dimensity 810         5,000mAh   \n",
            "446        64MP + 2MP + 2MP       MediaTek Dimensity 810         5,000mAh   \n",
            "447        64MP + 8MP + 2MP      MediaTek Dimensity 1200         4,500mAh   \n",
            "448        64MP + 8MP + 2MP      MediaTek Dimensity 1200         4,500mAh   \n",
            "449        64MP + 8MP + 2MP     Qualcomm Snapdragon 768G         4,300mAh   \n",
            "450        64MP + 8MP + 2MP     Qualcomm Snapdragon 768G         4,300mAh   \n",
            "451  48MP + 8MP + 2MP + 2MP       MediaTek Dimensity 720         5,000mAh   \n",
            "452  48MP + 8MP + 2MP + 2MP     Qualcomm Snapdragon 765G         4,025mAh   \n",
            "791                    13MP           MediaTek Helio A25         5,000mAh   \n",
            "798                    13MP           MediaTek Helio A25         5,000mAh   \n",
            "\n",
            "     Screen Size Launched Price (Pakistan) Launched Price (India)  \\\n",
            "344   6.7 inches                PKR 59,999             INR 34,999   \n",
            "347   6.7 inches                PKR 59,999             INR 34,999   \n",
            "423  6.72 inches                PKR 59,999             INR 18,000   \n",
            "424  6.72 inches                PKR 64,999             INR 20,000   \n",
            "425  6.59 inches                PKR 54,999             INR 16,990   \n",
            "426  6.59 inches                PKR 59,999             INR 18,990   \n",
            "427  6.59 inches                PKR 64,999             INR 19,999   \n",
            "428   6.5 inches                PKR 49,999             INR 15,999   \n",
            "429   6.5 inches                PKR 54,999             INR 17,999   \n",
            "430  6.43 inches                PKR 69,999             INR 24,999   \n",
            "431  6.43 inches                PKR 74,999             INR 27,999   \n",
            "432  6.43 inches                PKR 59,999             INR 22,999   \n",
            "433  6.43 inches                PKR 64,999             INR 24,999   \n",
            "434   6.5 inches                PKR 44,999             INR 14,999   \n",
            "435   6.4 inches                PKR 49,999             INR 19,999   \n",
            "437  6.72 inches                PKR 59,999             INR 18,000   \n",
            "438  6.72 inches                PKR 64,999             INR 20,000   \n",
            "441  6.59 inches                PKR 54,999             INR 16,990   \n",
            "442  6.59 inches                PKR 59,999             INR 18,990   \n",
            "443  6.59 inches                PKR 64,999             INR 19,999   \n",
            "445   6.5 inches                PKR 49,999             INR 15,999   \n",
            "446   6.5 inches                PKR 54,999             INR 17,999   \n",
            "447  6.43 inches                PKR 69,999             INR 24,999   \n",
            "448  6.43 inches                PKR 74,999             INR 27,999   \n",
            "449  6.43 inches                PKR 59,999             INR 22,999   \n",
            "450  6.43 inches                PKR 64,999             INR 24,999   \n",
            "451   6.5 inches                PKR 44,999             INR 14,999   \n",
            "452   6.4 inches                PKR 49,999             INR 19,999   \n",
            "791   6.6 inches                PKR 19,999              INR 7,999   \n",
            "798   6.6 inches                PKR 19,999              INR 7,999   \n",
            "\n",
            "    Launched Price (China) Launched Price (USA) Launched Price (Dubai)  \\\n",
            "344              CNY 2,999              USD 399              AED 1,499   \n",
            "347              CNY 2,999              USD 399              AED 1,499   \n",
            "423              CNY 1,499              USD 199              AED 1,000   \n",
            "424              CNY 1,699              USD 229              AED 1,200   \n",
            "425              CNY 1,499              USD 199              AED 1,000   \n",
            "426              CNY 1,699              USD 229              AED 1,200   \n",
            "427              CNY 1,799              USD 249              AED 1,300   \n",
            "428              CNY 1,499              USD 199              AED 1,000   \n",
            "429              CNY 1,699              USD 229              AED 1,200   \n",
            "430              CNY 2,199              USD 299              AED 1,500   \n",
            "431              CNY 2,499              USD 329              AED 1,700   \n",
            "432              CNY 1,999              USD 279              AED 1,400   \n",
            "433              CNY 2,199              USD 299              AED 1,500   \n",
            "434              CNY 1,499              USD 199              AED 1,000   \n",
            "435              CNY 1,999              USD 279              AED 1,400   \n",
            "437              CNY 1,499              USD 199              AED 1,000   \n",
            "438              CNY 1,699              USD 229              AED 1,200   \n",
            "441              CNY 1,499              USD 199              AED 1,000   \n",
            "442              CNY 1,699              USD 229              AED 1,200   \n",
            "443              CNY 1,799              USD 249              AED 1,300   \n",
            "445              CNY 1,499              USD 199              AED 1,000   \n",
            "446              CNY 1,699              USD 229              AED 1,200   \n",
            "447              CNY 2,199              USD 299              AED 1,500   \n",
            "448              CNY 2,499              USD 329              AED 1,700   \n",
            "449              CNY 1,999              USD 279              AED 1,400   \n",
            "450              CNY 2,199              USD 299              AED 1,500   \n",
            "451              CNY 1,499              USD 199              AED 1,000   \n",
            "452              CNY 1,999              USD 279              AED 1,400   \n",
            "791                CNY 699              USD 109                AED 399   \n",
            "798                CNY 699              USD 109                AED 399   \n",
            "\n",
            "     Launched Year  \n",
            "344           2024  \n",
            "347           2024  \n",
            "423           2023  \n",
            "424           2023  \n",
            "425           2022  \n",
            "426           2022  \n",
            "427           2022  \n",
            "428           2021  \n",
            "429           2021  \n",
            "430           2021  \n",
            "431           2021  \n",
            "432           2021  \n",
            "433           2021  \n",
            "434           2020  \n",
            "435           2020  \n",
            "437           2023  \n",
            "438           2023  \n",
            "441           2022  \n",
            "442           2022  \n",
            "443           2022  \n",
            "445           2021  \n",
            "446           2021  \n",
            "447           2021  \n",
            "448           2021  \n",
            "449           2021  \n",
            "450           2021  \n",
            "451           2020  \n",
            "452           2020  \n",
            "791           2020  \n",
            "798           2020  \n"
          ]
        }
      ]
    },
    {
      "cell_type": "code",
      "source": [
        "# Mostra os valores únicos de uma coluna (útil para categóricos)\n",
        "# print(df['coluna'].unique())\n",
        "\n",
        "#como são dados de hardware os valores costuma se duplicados então provavelmente não existe únicos\n"
      ],
      "metadata": {
        "colab": {
          "base_uri": "https://localhost:8080/",
          "height": 547
        },
        "id": "b_NEgJX35jdE",
        "outputId": "3baeb2c7-488d-46f3-8f82-1311f617dfeb"
      },
      "execution_count": null,
      "outputs": [
        {
          "output_type": "error",
          "ename": "KeyError",
          "evalue": "'coluna'",
          "traceback": [
            "\u001b[0;31m---------------------------------------------------------------------------\u001b[0m",
            "\u001b[0;31mKeyError\u001b[0m                                  Traceback (most recent call last)",
            "\u001b[0;32m/usr/local/lib/python3.11/dist-packages/pandas/core/indexes/base.py\u001b[0m in \u001b[0;36mget_loc\u001b[0;34m(self, key)\u001b[0m\n\u001b[1;32m   3804\u001b[0m         \u001b[0;32mtry\u001b[0m\u001b[0;34m:\u001b[0m\u001b[0;34m\u001b[0m\u001b[0;34m\u001b[0m\u001b[0m\n\u001b[0;32m-> 3805\u001b[0;31m             \u001b[0;32mreturn\u001b[0m \u001b[0mself\u001b[0m\u001b[0;34m.\u001b[0m\u001b[0m_engine\u001b[0m\u001b[0;34m.\u001b[0m\u001b[0mget_loc\u001b[0m\u001b[0;34m(\u001b[0m\u001b[0mcasted_key\u001b[0m\u001b[0;34m)\u001b[0m\u001b[0;34m\u001b[0m\u001b[0;34m\u001b[0m\u001b[0m\n\u001b[0m\u001b[1;32m   3806\u001b[0m         \u001b[0;32mexcept\u001b[0m \u001b[0mKeyError\u001b[0m \u001b[0;32mas\u001b[0m \u001b[0merr\u001b[0m\u001b[0;34m:\u001b[0m\u001b[0;34m\u001b[0m\u001b[0;34m\u001b[0m\u001b[0m\n",
            "\u001b[0;32mindex.pyx\u001b[0m in \u001b[0;36mpandas._libs.index.IndexEngine.get_loc\u001b[0;34m()\u001b[0m\n",
            "\u001b[0;32mindex.pyx\u001b[0m in \u001b[0;36mpandas._libs.index.IndexEngine.get_loc\u001b[0;34m()\u001b[0m\n",
            "\u001b[0;32mpandas/_libs/hashtable_class_helper.pxi\u001b[0m in \u001b[0;36mpandas._libs.hashtable.PyObjectHashTable.get_item\u001b[0;34m()\u001b[0m\n",
            "\u001b[0;32mpandas/_libs/hashtable_class_helper.pxi\u001b[0m in \u001b[0;36mpandas._libs.hashtable.PyObjectHashTable.get_item\u001b[0;34m()\u001b[0m\n",
            "\u001b[0;31mKeyError\u001b[0m: 'coluna'",
            "\nThe above exception was the direct cause of the following exception:\n",
            "\u001b[0;31mKeyError\u001b[0m                                  Traceback (most recent call last)",
            "\u001b[0;32m<ipython-input-5-c7241039db38>\u001b[0m in \u001b[0;36m<cell line: 0>\u001b[0;34m()\u001b[0m\n\u001b[1;32m      1\u001b[0m \u001b[0;31m# Mostra os valores únicos de uma coluna (útil para categóricos)\u001b[0m\u001b[0;34m\u001b[0m\u001b[0;34m\u001b[0m\u001b[0m\n\u001b[0;32m----> 2\u001b[0;31m \u001b[0mprint\u001b[0m\u001b[0;34m(\u001b[0m\u001b[0mdf\u001b[0m\u001b[0;34m[\u001b[0m\u001b[0;34m'coluna'\u001b[0m\u001b[0;34m]\u001b[0m\u001b[0;34m.\u001b[0m\u001b[0munique\u001b[0m\u001b[0;34m(\u001b[0m\u001b[0;34m)\u001b[0m\u001b[0;34m)\u001b[0m\u001b[0;34m\u001b[0m\u001b[0;34m\u001b[0m\u001b[0m\n\u001b[0m",
            "\u001b[0;32m/usr/local/lib/python3.11/dist-packages/pandas/core/frame.py\u001b[0m in \u001b[0;36m__getitem__\u001b[0;34m(self, key)\u001b[0m\n\u001b[1;32m   4100\u001b[0m             \u001b[0;32mif\u001b[0m \u001b[0mself\u001b[0m\u001b[0;34m.\u001b[0m\u001b[0mcolumns\u001b[0m\u001b[0;34m.\u001b[0m\u001b[0mnlevels\u001b[0m \u001b[0;34m>\u001b[0m \u001b[0;36m1\u001b[0m\u001b[0;34m:\u001b[0m\u001b[0;34m\u001b[0m\u001b[0;34m\u001b[0m\u001b[0m\n\u001b[1;32m   4101\u001b[0m                 \u001b[0;32mreturn\u001b[0m \u001b[0mself\u001b[0m\u001b[0;34m.\u001b[0m\u001b[0m_getitem_multilevel\u001b[0m\u001b[0;34m(\u001b[0m\u001b[0mkey\u001b[0m\u001b[0;34m)\u001b[0m\u001b[0;34m\u001b[0m\u001b[0;34m\u001b[0m\u001b[0m\n\u001b[0;32m-> 4102\u001b[0;31m             \u001b[0mindexer\u001b[0m \u001b[0;34m=\u001b[0m \u001b[0mself\u001b[0m\u001b[0;34m.\u001b[0m\u001b[0mcolumns\u001b[0m\u001b[0;34m.\u001b[0m\u001b[0mget_loc\u001b[0m\u001b[0;34m(\u001b[0m\u001b[0mkey\u001b[0m\u001b[0;34m)\u001b[0m\u001b[0;34m\u001b[0m\u001b[0;34m\u001b[0m\u001b[0m\n\u001b[0m\u001b[1;32m   4103\u001b[0m             \u001b[0;32mif\u001b[0m \u001b[0mis_integer\u001b[0m\u001b[0;34m(\u001b[0m\u001b[0mindexer\u001b[0m\u001b[0;34m)\u001b[0m\u001b[0;34m:\u001b[0m\u001b[0;34m\u001b[0m\u001b[0;34m\u001b[0m\u001b[0m\n\u001b[1;32m   4104\u001b[0m                 \u001b[0mindexer\u001b[0m \u001b[0;34m=\u001b[0m \u001b[0;34m[\u001b[0m\u001b[0mindexer\u001b[0m\u001b[0;34m]\u001b[0m\u001b[0;34m\u001b[0m\u001b[0;34m\u001b[0m\u001b[0m\n",
            "\u001b[0;32m/usr/local/lib/python3.11/dist-packages/pandas/core/indexes/base.py\u001b[0m in \u001b[0;36mget_loc\u001b[0;34m(self, key)\u001b[0m\n\u001b[1;32m   3810\u001b[0m             ):\n\u001b[1;32m   3811\u001b[0m                 \u001b[0;32mraise\u001b[0m \u001b[0mInvalidIndexError\u001b[0m\u001b[0;34m(\u001b[0m\u001b[0mkey\u001b[0m\u001b[0;34m)\u001b[0m\u001b[0;34m\u001b[0m\u001b[0;34m\u001b[0m\u001b[0m\n\u001b[0;32m-> 3812\u001b[0;31m             \u001b[0;32mraise\u001b[0m \u001b[0mKeyError\u001b[0m\u001b[0;34m(\u001b[0m\u001b[0mkey\u001b[0m\u001b[0;34m)\u001b[0m \u001b[0;32mfrom\u001b[0m \u001b[0merr\u001b[0m\u001b[0;34m\u001b[0m\u001b[0;34m\u001b[0m\u001b[0m\n\u001b[0m\u001b[1;32m   3813\u001b[0m         \u001b[0;32mexcept\u001b[0m \u001b[0mTypeError\u001b[0m\u001b[0;34m:\u001b[0m\u001b[0;34m\u001b[0m\u001b[0;34m\u001b[0m\u001b[0m\n\u001b[1;32m   3814\u001b[0m             \u001b[0;31m# If we have a listlike key, _check_indexing_error will raise\u001b[0m\u001b[0;34m\u001b[0m\u001b[0;34m\u001b[0m\u001b[0m\n",
            "\u001b[0;31mKeyError\u001b[0m: 'coluna'"
          ]
        }
      ]
    },
    {
      "cell_type": "markdown",
      "source": [
        "agora iremos fazer uma filtragem em 3 colunas para analise"
      ],
      "metadata": {
        "id": "KKHFaulMy8Ot"
      }
    },
    {
      "cell_type": "code",
      "source": [
        "#print(df[\"Launched Price (USA)\"].dtype)\n",
        "\n",
        "#print(df.columns.tolist())  # Lista todas as colunas disponíveis\n",
        "\n",
        "# Função para limpar e converter colunas de preço\n",
        "def clean_price_column(column):\n",
        "    return (\n",
        "        column.astype(str)\n",
        "        .str.replace(r'[^\\d.]', '', regex=True)  # Remove tudo exceto números e ponto\n",
        "        .astype(float)\n",
        "    )\n",
        "\n",
        "# Limpa e converte as colunas de preço\n",
        "df[\"Launched Price (USA)\"] = clean_price_column(df[\"Launched Price (USA)\"])\n",
        "df[\"Launched Price (India)\"] = clean_price_column(df[\"Launched Price (India)\"])\n",
        "df[\"Launched Price (China)\"] = clean_price_column(df[\"Launched Price (China)\"])\n",
        "\n",
        "# Filtra linhas onde o preço nos EUA, Índia ou China seja maior que 500\n",
        "df_filtered = df[\n",
        "    (df[\"Launched Price (USA)\"] > 500) |\n",
        "    (df[\"Launched Price (India)\"] > 42642.54) |\n",
        "    (df[\"Launched Price (China)\"] > 3643.5)\n",
        "]\n",
        "\n",
        "# Seleciona apenas as colunas desejadas (incluindo os novos países)\n",
        "df_filtered = df_filtered[[\n",
        "    \"Company Name\",\n",
        "    \"Model Name\",\n",
        "    \"Launched Price (USA)\",\n",
        "    \"Launched Price (India)\",\n",
        "    \"Launched Price (China)\"\n",
        "]]\n",
        "\n",
        "# Mostra as primeiras linhas\n",
        "print(df_filtered.head())"
      ],
      "metadata": {
        "colab": {
          "base_uri": "https://localhost:8080/"
        },
        "id": "QWzTctrs0D6r",
        "outputId": "ee3c416d-335d-4dac-abec-05795b26781f"
      },
      "execution_count": 19,
      "outputs": [
        {
          "output_type": "stream",
          "name": "stdout",
          "text": [
            "  Company Name            Model Name  Launched Price (USA)  \\\n",
            "0        Apple       iPhone 16 128GB                 799.0   \n",
            "1        Apple       iPhone 16 256GB                 849.0   \n",
            "2        Apple       iPhone 16 512GB                 899.0   \n",
            "3        Apple  iPhone 16 Plus 128GB                 899.0   \n",
            "4        Apple  iPhone 16 Plus 256GB                 949.0   \n",
            "\n",
            "   Launched Price (India)  Launched Price (China)  \n",
            "0                 79999.0                  5799.0  \n",
            "1                 84999.0                  6099.0  \n",
            "2                 89999.0                  6499.0  \n",
            "3                 89999.0                  6199.0  \n",
            "4                 94999.0                  6499.0  \n"
          ]
        }
      ]
    },
    {
      "cell_type": "markdown",
      "source": [
        "pelo resultado da saída os Iphones vendidos ano de 2024 nos USA acima de 500 dolares são parecidos do que em outros paises onde eu usei um converso externo de moeda para parear"
      ],
      "metadata": {
        "id": "13_surgvADtI"
      }
    },
    {
      "cell_type": "code",
      "source": [
        "iphones = df[df[\"Model Name\"].str.contains(\"iPhone 16\")]\n",
        "print(iphones[[\"Model Name\", \"Launched Price (USA)\", \"Launched Price (India)\", \"Launched Price (China)\"]])"
      ],
      "metadata": {
        "colab": {
          "base_uri": "https://localhost:8080/"
        },
        "id": "TJcA2mndFNCh",
        "outputId": "c6d581cf-044e-41cb-b5b5-9920b55138e8"
      },
      "execution_count": 20,
      "outputs": [
        {
          "output_type": "stream",
          "name": "stdout",
          "text": [
            "                 Model Name  Launched Price (USA)  Launched Price (India)  \\\n",
            "0           iPhone 16 128GB                 799.0                 79999.0   \n",
            "1           iPhone 16 256GB                 849.0                 84999.0   \n",
            "2           iPhone 16 512GB                 899.0                 89999.0   \n",
            "3      iPhone 16 Plus 128GB                 899.0                 89999.0   \n",
            "4      iPhone 16 Plus 256GB                 949.0                 94999.0   \n",
            "5      iPhone 16 Plus 512GB                 999.0                104999.0   \n",
            "6       iPhone 16 Pro 128GB                 999.0                 99999.0   \n",
            "7       iPhone 16 Pro 256GB                1049.0                104999.0   \n",
            "8       iPhone 16 Pro 512GB                1099.0                114999.0   \n",
            "9   iPhone 16 Pro Max 128GB                1099.0                109999.0   \n",
            "10  iPhone 16 Pro Max 256GB                1199.0                114999.0   \n",
            "11  iPhone 16 Pro Max 512GB                1299.0                124999.0   \n",
            "\n",
            "    Launched Price (China)  \n",
            "0                   5799.0  \n",
            "1                   6099.0  \n",
            "2                   6499.0  \n",
            "3                   6199.0  \n",
            "4                   6499.0  \n",
            "5                   6999.0  \n",
            "6                   6999.0  \n",
            "7                   7099.0  \n",
            "8                   7499.0  \n",
            "9                   7499.0  \n",
            "10                  7799.0  \n",
            "11                  8199.0  \n"
          ]
        }
      ]
    },
    {
      "cell_type": "markdown",
      "source": [
        "após uma segunda analise mais robusta aparenta que na india é um pouco mais caro entorno de 20% em comparação aos USA porém vamos analisa agora a %"
      ],
      "metadata": {
        "id": "q4soSy8uGcnG"
      }
    },
    {
      "cell_type": "code",
      "source": [
        "# Calcular diferenças percentuais\n",
        "df['India Premium (%)'] = ((df['Launched Price (India)']/83 - df['Launched Price (USA)'])/df['Launched Price (USA)']*100).round(1)\n",
        "df['China Discount (%)'] = ((df['Launched Price (USA)'] - df['Launched Price (China)']/7.2)/df['Launched Price (USA)']*100).round(1)\n",
        "print(df[['Model Name', 'Launched Price (USA)', 'India Premium (%)', 'China Discount (%)']])"
      ],
      "metadata": {
        "colab": {
          "base_uri": "https://localhost:8080/"
        },
        "id": "dpR3y67OG-__",
        "outputId": "43f2a587-6e87-404e-b316-893d04be988f"
      },
      "execution_count": 21,
      "outputs": [
        {
          "output_type": "stream",
          "name": "stdout",
          "text": [
            "               Model Name  Launched Price (USA)  India Premium (%)  \\\n",
            "0         iPhone 16 128GB                 799.0               20.6   \n",
            "1         iPhone 16 256GB                 849.0               20.6   \n",
            "2         iPhone 16 512GB                 899.0               20.6   \n",
            "3    iPhone 16 Plus 128GB                 899.0               20.6   \n",
            "4    iPhone 16 Plus 256GB                 949.0               20.6   \n",
            "..                    ...                   ...                ...   \n",
            "925          Pad 5G 128GB                 280.0                3.3   \n",
            "926          Pad 5G 256GB                 300.0                4.4   \n",
            "927  Galaxy Z Fold6 256GB                1899.0                4.7   \n",
            "928  Galaxy Z Fold6 512GB                1719.0               24.1   \n",
            "929    Galaxy Z Fold6 1TB                2259.0                7.2   \n",
            "\n",
            "     China Discount (%)  \n",
            "0                  -0.8  \n",
            "1                   0.2  \n",
            "2                  -0.4  \n",
            "3                   4.2  \n",
            "4                   4.9  \n",
            "..                  ...  \n",
            "925                -4.1  \n",
            "926                -6.4  \n",
            "927                -2.4  \n",
            "928               -29.3  \n",
            "929               -10.7  \n",
            "\n",
            "[930 rows x 4 columns]\n"
          ]
        }
      ]
    },
    {
      "cell_type": "markdown",
      "source": [
        "essa última analise levar a creer que na china tem preço equivalentes ou abaixo , india a cima em comparação aos USA"
      ],
      "metadata": {
        "id": "vwKg4Xg1HSC9"
      }
    }
  ]
}
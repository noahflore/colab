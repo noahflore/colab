{
  "nbformat": 4,
  "nbformat_minor": 0,
  "metadata": {
    "colab": {
      "provenance": [],
      "authorship_tag": "ABX9TyPKMAYAz2kbfwOfFXfVkKJX",
      "include_colab_link": true
    },
    "kernelspec": {
      "name": "python3",
      "display_name": "Python 3"
    },
    "language_info": {
      "name": "python"
    }
  },
  "cells": [
    {
      "cell_type": "markdown",
      "metadata": {
        "id": "view-in-github",
        "colab_type": "text"
      },
      "source": [
        "<a href=\"https://colab.research.google.com/github/noahflore/colab/blob/main/atividade_1.ipynb\" target=\"_parent\"><img src=\"https://colab.research.google.com/assets/colab-badge.svg\" alt=\"Open In Colab\"/></a>"
      ]
    },
    {
      "cell_type": "markdown",
      "source": [
        "# **TABUADA**\n",
        "## o código possui uma **função** que calcula a **tabuada** comforme o usuário passou o **número**\n",
        "## testes de **verificação** foi implementada junto com tratamento de dados"
      ],
      "metadata": {
        "id": "SsFdpr0fMiN4"
      }
    },
    {
      "cell_type": "code",
      "source": [
        "def tabuada(numero):\n",
        "    dado='' #imprime a mensagem\n",
        "\n",
        "    if (numero<1 or numero>10): # retorna dizendo que o usuário não colocou um número válido\n",
        "        return \"o número tem que se entre 1 e 10\"\n",
        "\n",
        "\n",
        "    for i in range(11): # for do zero a dez\n",
        "        dado+= f\"{numero} * {i} = {numero*i}\\n\" #calcula o 'numero' pelo 'i' e quebra linha\n",
        "\n",
        "    return f'\\n{dado}' #retorna a mensagem formatada\n"
      ],
      "metadata": {
        "id": "S3GG0XqxjY_h"
      },
      "execution_count": 31,
      "outputs": []
    },
    {
      "cell_type": "code",
      "source": [
        "print(\"bem-vindo(a)! calcula a tabuada\")# apresentação\n",
        "n= input(\"digite um número entre 1 e 10: \") #exibi a mensagem solicitando um número\n",
        "\n",
        "if n.isnumeric(): #se for número converte para int\n",
        "  n= int(n) #convertendo para int\n",
        "else:\n",
        "  while not n.isnumeric(): # caso contraio entra no laço while\n",
        "    print(\"digite um número válido\") #solicita novamente que o usuário envia um número válido\n",
        "    n= input(\"digite um número entre 1 e 10: \")\n",
        "    if not n.isnumeric(): #se não for int então o loop continua\n",
        "      continue\n",
        "    else:# aqui é convertido e é usado o break\n",
        "      n= int(n)\n",
        "      break\n",
        "print(tabuada(n)) # chama a função"
      ],
      "metadata": {
        "colab": {
          "base_uri": "https://localhost:8080/"
        },
        "id": "x6-g_TYLAi6l",
        "outputId": "8663d3ba-62c2-4d87-b4ab-eeefcaa04215"
      },
      "execution_count": 41,
      "outputs": [
        {
          "output_type": "stream",
          "name": "stdout",
          "text": [
            "bem-vindo(a)! calcula a tabuada\n",
            "digite um número entre 1 e 10: a\n",
            "digite um número válido\n",
            "digite um número entre 1 e 10: a\n",
            "digite um número válido\n",
            "digite um número entre 1 e 10: a\n",
            "digite um número válido\n",
            "digite um número entre 1 e 10: 7\n",
            "\n",
            "7 * 0 = 0\n",
            "7 * 1 = 7\n",
            "7 * 2 = 14\n",
            "7 * 3 = 21\n",
            "7 * 4 = 28\n",
            "7 * 5 = 35\n",
            "7 * 6 = 42\n",
            "7 * 7 = 49\n",
            "7 * 8 = 56\n",
            "7 * 9 = 63\n",
            "7 * 10 = 70\n",
            "\n"
          ]
        }
      ]
    },
    {
      "cell_type": "code",
      "source": [],
      "metadata": {
        "id": "wfG2vf_2Csll"
      },
      "execution_count": null,
      "outputs": []
    }
  ]
}
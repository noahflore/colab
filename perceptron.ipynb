{
  "cells": [
    {
      "cell_type": "markdown",
      "source": [
        "o código abaixo verificar o que tem dentro do Arquivo."
      ],
      "metadata": {
        "id": "gPWzCg6xe3XG"
      },
      "id": "gPWzCg6xe3XG"
    },
    {
      "cell_type": "code",
      "execution_count": null,
      "id": "1d0b0b51-f3dc-4d29-8e9c-a37665c7a814",
      "metadata": {
        "id": "1d0b0b51-f3dc-4d29-8e9c-a37665c7a814"
      },
      "outputs": [],
      "source": [
        "import pandas as pd\n",
        "import matplotlib.pyplot as plt\n",
        "\n",
        "# Carregar os dados\n",
        "caminho_arquivo = 'basededados/MiniBooNE_PID.txt'\n",
        "data = pd.read_csv(caminho_arquivo, delimiter='\\s+', header=None, skiprows=1)\n",
        "\n",
        "# Verificar as primeiras linhas\n",
        "print(\"Primeiras linhas dos dados:\")\n",
        "print(data.head())\n",
        "\n",
        "# Verificar estatísticas básicas de cada coluna\n",
        "print(\"\\nEstatísticas descritivas:\")\n",
        "print(data.describe())\n",
        "\n",
        "# Verificar informações básicas\n",
        "print(\"\\nInformações sobre o dataset:\")\n",
        "print(data.info())\n",
        "\n",
        "# Verificar valores únicos em cada coluna (útil para identificar rótulos binários)\n",
        "print(\"\\nValores únicos por coluna:\")\n",
        "for col in data.columns:\n",
        "    print(f\"Coluna {col}: {data[col].unique()}\")\n",
        "\n",
        "# Plotar histogramas para cada coluna\n",
        "data.hist(bins=50, figsize=(20, 15))\n",
        "plt.show()"
      ]
    },
    {
      "cell_type": "code",
      "execution_count": null,
      "id": "08d425ea-7ab8-4c8d-a159-0d05e1cd7129",
      "metadata": {
        "id": "08d425ea-7ab8-4c8d-a159-0d05e1cd7129"
      },
      "outputs": [],
      "source": [
        "import numpy as np\n",
        "import matplotlib.pyplot as plt\n",
        "from sklearn.datasets import make_classification\n",
        "from sklearn.model_selection import train_test_split\n",
        "import pandas as pd\n",
        "# carregar bibliótecas necessárias\n",
        "\n"
      ]
    },
    {
      "cell_type": "markdown",
      "source": [
        "## carregar o Arquivo e coloca em um rótulo baseado no seu valor\n",
        "**caso o Arquivo contém dados irreguláres será necessário modifica o código ou adapta os dados**"
      ],
      "metadata": {
        "id": "U200A31Rfz_O"
      },
      "id": "U200A31Rfz_O"
    },
    {
      "cell_type": "code",
      "execution_count": null,
      "id": "5695e725-6a9b-4b1a-b82c-8d128d7e32eb",
      "metadata": {
        "scrolled": true,
        "id": "5695e725-6a9b-4b1a-b82c-8d128d7e32eb",
        "colab": {
          "base_uri": "https://localhost:8080/"
        },
        "outputId": "379373c1-edca-4a6d-bb5c-f4deeeadca4c"
      },
      "outputs": [
        {
          "output_type": "stream",
          "name": "stdout",
          "text": [
            "Dados carregados com sucesso!\n",
            "Formato dos dados: (130064, 51)\n",
            "\n",
            "Primeiras linhas dos dados:\n",
            "         0         1         2         3         4         5         6  \\\n",
            "0  2.59413  0.468803   20.6916  0.322648  0.009682  0.374393  0.803479   \n",
            "1  3.86388  0.645781   18.1375  0.233529  0.030733  0.361239  1.069740   \n",
            "2  3.38584  1.197140   36.0807  0.200866  0.017341  0.260841  1.108950   \n",
            "3  4.28524  0.510155  674.2010  0.281923  0.009174  0.000000  0.998822   \n",
            "4  5.93662  0.832993   59.8796  0.232853  0.025066  0.233556  1.370040   \n",
            "\n",
            "          7        8         9  ...       41        42       43        44  \\\n",
            "0  0.896592  3.59665  0.249282  ... -31.3730  0.442259  5.86453  0.000000   \n",
            "1  0.878714  3.59243  0.200793  ...  45.9597 -0.478507  6.11126  0.001182   \n",
            "2  0.884405  3.43159  0.177167  ... -11.5608 -0.297008  8.27204  0.003854   \n",
            "3  0.823390  3.16382  0.171678  ... -18.4586  0.453886  2.48112  0.000000   \n",
            "4  0.787424  3.66546  0.174862  ...  42.9600 -0.975752  2.66109  0.000000   \n",
            "\n",
            "         45        46        47        48        49  label  \n",
            "0  0.090519  0.176909  0.457585  0.071769  0.245996    1.0  \n",
            "1  0.091800 -0.465572  0.935523  0.333613  0.230621    1.0  \n",
            "2  0.141721 -0.210559  1.013450  0.255512  0.180901    1.0  \n",
            "3  0.180938  0.407968  4.341270  0.473081  0.258990    1.0  \n",
            "4  0.170836 -0.814403  4.679490  1.924990  0.253893    1.0  \n",
            "\n",
            "[5 rows x 51 columns]\n",
            "\n",
            "Formato dos dados reduzidos (X_reduzido): (10000, 50)\n",
            "Formato dos rótulos reduzidos (y_reduzido): (10000,)\n"
          ]
        }
      ],
      "source": [
        "import pandas as pd\n",
        "import numpy as np\n",
        "\n",
        "# Caminho para o arquivo (substitua pelo caminho correto)\n",
        "caminho_arquivo = 'basededados/MiniBooNE_PID.txt'\n",
        "\n",
        "# Carregar os dados\n",
        "try:\n",
        "    # Ler a primeira linha para obter o número de eventos de sinal e fundo\n",
        "    with open(caminho_arquivo, 'r') as file:\n",
        "        primeira_linha = file.readline().strip().split()\n",
        "        num_sinal = int(primeira_linha[0])  # Número de eventos de sinal\n",
        "        num_fundo = int(primeira_linha[1])  # Número de eventos de fundo\n",
        "\n",
        "    # Carregar os dados a partir da segunda linha\n",
        "    data = pd.read_csv(caminho_arquivo, delimiter='\\s+', header=None, skiprows=1)\n",
        "\n",
        "    # Adicionar uma coluna de rótulos\n",
        "    # 1 para sinal, -1 para fundo\n",
        "    y = np.concatenate([np.ones(num_sinal), np.ones(num_fundo) * -1])\n",
        "    data['label'] = y\n",
        "\n",
        "    print(\"Dados carregados com sucesso!\")\n",
        "    print(\"Formato dos dados:\", data.shape)\n",
        "    print(\"\\nPrimeiras linhas dos dados:\")\n",
        "    print(data.head())\n",
        "\n",
        "except Exception as e:\n",
        "    print(f\"Erro ao carregar o arquivo: {e}\")\n",
        "\n",
        "# Reduzir o número de dados para 10000 (opcional)\n",
        "data_reduzido = data.sample(n=10000, random_state=10)\n",
        "\n",
        "# Separar features (X) e rótulos (y)\n",
        "X = data_reduzido.iloc[:, :-1].values  # Todas as colunas, exceto a última (rótulos)\n",
        "y = data_reduzido.iloc[:, -1].values   # Última coluna (rótulos)\n",
        "\n",
        "# Verificar os dados reduzidos\n",
        "print(\"\\nFormato dos dados reduzidos (X_reduzido):\", X.shape)\n",
        "print(\"Formato dos rótulos reduzidos (y_reduzido):\", y.shape)"
      ]
    },
    {
      "cell_type": "code",
      "source": [
        "# Verificar a distribuição das classes\n",
        "from collections import Counter\n",
        "\n",
        "class_counts = Counter(y)\n",
        "print(\"\\nDistribuição original das classes:\")\n",
        "print(f\"Classe 1 (sinal): {class_counts[1]} amostras\")\n",
        "print(f\"Classe -1 (fundo): {class_counts[-1]} amostras\")\n",
        "print(f\"Proporção: {class_counts[1]}:{class_counts[-1]}\")"
      ],
      "metadata": {
        "id": "1OtNlS9QduFG"
      },
      "id": "1OtNlS9QduFG",
      "execution_count": null,
      "outputs": []
    },
    {
      "cell_type": "markdown",
      "source": [
        "foi necessário usar um undersample para balancear os dados, caso o perceptron erra muito deve utiliza essa função abaixo algumas vezes para embaralhar os dados."
      ],
      "metadata": {
        "id": "jeWiWeKGm0RD"
      },
      "id": "jeWiWeKGm0RD"
    },
    {
      "cell_type": "code",
      "source": [
        "def manual_undersample(X, y):\n",
        "    # Contar as classes\n",
        "    class_counts = Counter(y)\n",
        "    minority_class = min(class_counts, key=class_counts.get)\n",
        "    minority_count = class_counts[minority_class]\n",
        "\n",
        "    # Separar por classes\n",
        "    class_indices = {cls: np.where(y == cls)[0] for cls in class_counts}\n",
        "\n",
        "    # Amostrar aleatoriamente\n",
        "    sampled_indices = []\n",
        "    for cls in class_counts:\n",
        "        indices = class_indices[cls]\n",
        "        if len(indices) > minority_count:\n",
        "            indices = np.random.choice(indices, size=minority_count, replace=False)\n",
        "        sampled_indices.extend(indices)\n",
        "\n",
        "    # Embaralhar os índices\n",
        "    np.random.shuffle(sampled_indices)\n",
        "\n",
        "    return X[sampled_indices], y[sampled_indices]\n",
        "\n",
        "# Aplicar undersampling\n",
        "X_under, y_under = manual_undersample(X, y)\n",
        "\n",
        "# Verificar o resultado\n",
        "print(\"\\nApós undersampling:\")\n",
        "print(f\"Classe 1: {sum(y_under == 1)}\")\n",
        "print(f\"Classe -1: {sum(y_under == -1)}\")"
      ],
      "metadata": {
        "colab": {
          "base_uri": "https://localhost:8080/"
        },
        "id": "dPbRSVEod4gI",
        "outputId": "e9bcbc33-bc91-450c-8b83-f89e09dbd26a"
      },
      "id": "dPbRSVEod4gI",
      "execution_count": null,
      "outputs": [
        {
          "output_type": "stream",
          "name": "stdout",
          "text": [
            "\n",
            "Após undersampling:\n",
            "Classe 1: 2747\n",
            "Classe -1: 2747\n"
          ]
        }
      ]
    },
    {
      "cell_type": "code",
      "execution_count": null,
      "id": "d86a1c69-fff6-4566-a98a-3e5a0cde6919",
      "metadata": {
        "colab": {
          "base_uri": "https://localhost:8080/"
        },
        "id": "d86a1c69-fff6-4566-a98a-3e5a0cde6919",
        "outputId": "bc569ce8-0952-4b7a-dfeb-a34c9041386a"
      },
      "outputs": [
        {
          "output_type": "stream",
          "name": "stdout",
          "text": [
            "Dados de treino (X_train):\n",
            "[[4.83708e+00 1.61674e+00 1.38859e+02 ... 1.41544e+00 1.18472e+00\n",
            "  2.82234e-01]\n",
            " [5.07715e+00 9.87028e-01 2.81045e+01 ... 7.38397e+00 2.13422e-01\n",
            "  2.64591e-01]\n",
            " [3.96216e+00 7.73405e-01 2.59313e+01 ... 1.68742e+00 1.62140e+00\n",
            "  2.82059e-01]\n",
            " ...\n",
            " [6.97826e+00 9.29197e-01 5.52712e+01 ... 3.61695e+00 1.41238e+00\n",
            "  2.23881e-01]\n",
            " [5.49614e+00 2.20617e+00 3.97272e+02 ... 3.17262e+00 1.44371e+00\n",
            "  1.98466e-01]\n",
            " [4.13982e+00 2.07262e+00 1.19088e+00 ... 3.04618e+00 1.74303e+00\n",
            "  2.98091e-01]]\n",
            "Rótulos de treino (y_train):\n",
            "[-1.  1.  1. ... -1. -1.  1.]\n",
            "\n",
            "Dados de teste (X_test):\n",
            "[[ 3.86742e+00  5.78216e-01  1.23618e+01 ...  1.25207e+00  2.47402e+00\n",
            "   2.50234e-01]\n",
            " [ 6.66554e+00  1.71790e+00  9.92258e+01 ...  9.93864e+00  9.02625e+00\n",
            "   2.10986e-01]\n",
            " [ 4.68095e+00  1.62644e+00  1.48455e+02 ...  6.23500e+00  2.07270e+00\n",
            "   2.95858e-01]\n",
            " ...\n",
            " [ 3.74089e+00  1.04701e+00  1.55647e+02 ...  1.48513e+00 -4.12101e-02\n",
            "   1.89086e-01]\n",
            " [ 3.56047e+00  8.23085e-01  1.89671e+02 ...  5.70750e-01  9.72528e-02\n",
            "   2.41804e-01]\n",
            " [ 3.92191e+00  3.11465e-01  2.44771e+01 ...  1.67255e+00  1.48346e+00\n",
            "   2.82657e-01]]\n",
            "Rótulos de teste (y_test):\n",
            "[ 1. -1.  1. ...  1.  1.  1.]\n"
          ]
        }
      ],
      "source": [
        "from sklearn.model_selection import train_test_split\n",
        "\n",
        "# Dividir os dados em treino e teste\n",
        "X_train, X_test, y_train, y_test = train_test_split(X_under, y_under, test_size=0.2, random_state=45)\n",
        "'''essa função separa os dados de X e Y entre treinamento e teste onde o test_size dividi em portagem,\n",
        "exemplo, 0.2% 20% para teste e 80% para treino '''\n",
        "\n",
        "print(\"Dados de treino (X_train):\")\n",
        "print(X_train)\n",
        "print(\"Rótulos de treino (y_train):\")\n",
        "print(y_train)\n",
        "\n",
        "print(\"\\nDados de teste (X_test):\")\n",
        "print(X_test)\n",
        "print(\"Rótulos de teste (y_test):\")\n",
        "print(y_test)"
      ]
    },
    {
      "cell_type": "code",
      "execution_count": null,
      "id": "27984497-8b10-4df7-8b26-a262224c56bc",
      "metadata": {
        "id": "27984497-8b10-4df7-8b26-a262224c56bc"
      },
      "outputs": [],
      "source": [
        "class Perceptron:\n",
        "    def __init__(self, learning_rate=0.01, n_iters=1000):\n",
        "        self.lr = learning_rate # taxa de aprendizado se for um valor baixo 0.001% então o acerto é alto mas demorado\n",
        "        self.n_iters = n_iters # quantidades de interações em todos os conjuntos\n",
        "        self.weights = None  # peso iniciado como none\n",
        "        self.bias = None # bias como none\n",
        "        self.errors = [] # quantidades de erros\n",
        "\n",
        "    def fit(self, X, y):\n",
        "        n_samples, n_features = X.shape # dividi entre linhas e colunas os pares de dados\n",
        "\n",
        "        # Inicializar pesos e bias\n",
        "        self.weights = np.zeros(n_features) # os pesos são iniciados em zero um para cada coluna\n",
        "        self.bias = 0 # bias iniciado em zero\n",
        "\n",
        "        ocorrencia=0 # para registra ocorrência de zero erro\n",
        "\n",
        "        # Treinamento\n",
        "        for _ in range(self.n_iters): # aqui acontece a quantidade de interação\n",
        "            error = 0  # Contador de erros para a época atual\n",
        "            for idx, x_i in enumerate(X): # X é separado entre conjuto x_i e o idx\n",
        "                linear_output = np.dot(x_i, self.weights) + self.bias\n",
        "                '''\n",
        "                  o np.dot retorna o resultado da multiplicação entre o conjuto e os pesos, depois soma ao bias\n",
        "                '''\n",
        "                y_pred = np.where(linear_output >= 0, 1, -1) #se o linear_output for maior que zero o y_pred recebe 1 caso contraio recebe zero\n",
        "                '''\n",
        "                    observação caso ocorra erro verificar se a saída é 1 e 0 ou 1 e -1 , deve se binário\n",
        "                '''\n",
        "\n",
        "                # Armazenar o número de erros da época atual\n",
        "                if y_pred != y[idx]:\n",
        "                    # Atualizar pesos e bias\n",
        "                    update = self.lr * (y[idx] - y_pred) # subtraia o label verdadeiro pela previsão e depois multiplica pela taxa de aprendizado\n",
        "                    self.weights += update * x_i # atualiza os pesos multiplicando o erro com o conjuto\n",
        "                    self.bias += update #atualiza o bias\n",
        "                    error += 1  # Incrementar o contador de erros\n",
        "                else:\n",
        "                    ocorrencia+=1 # se não tiver erros a var 'ocorrencia' é incrementada\n",
        "\n",
        "                self.errors.append(error)\n",
        "\n",
        "                # Parar se não houver erros e tiver mais de 500 ocorrências de zeros erros então assumi que perceptron foi bem treinado\n",
        "                if error == 0 and ocorrencia > 500:\n",
        "                    break\n",
        "\n",
        "    def predict(self, X): # faz a previsão\n",
        "        linear_output = np.dot(X, self.weights) + self.bias\n",
        "        print(f'taxaDeAprendizado: {self.lr}')\n",
        "        print(f'pesos: {self.weights}')\n",
        "        return np.where(linear_output >= 0, 1, -1)\n",
        "\n",
        "# Função para plotar a taxa de aprendizado (erros ao longo das épocas)\n",
        "def plot_learning_curve(errors):\n",
        "    plt.plot(range(len(errors)), errors, marker='o')\n",
        "    plt.xlabel('Época')\n",
        "    plt.ylabel('Número de erros')\n",
        "    plt.title('Taxa de aprendizado ao longo das épocas')\n",
        "    plt.grid(True)\n",
        "    plt.show()\n",
        "\n",
        "# Função para plotar a fronteira de decisão\n",
        "def plot_decision_boundary(X, y, model):\n",
        "    x_min, x_max = X[:, 0].min() - 1, X[:, 0].max() + 1\n",
        "    y_min, y_max = X[:, 1].min() - 1, X[:, 1].max() + 1\n",
        "    xx, yy = np.meshgrid(np.arange(x_min, x_max, 0.01),\n",
        "                         np.arange(y_min, y_max, 0.01))\n",
        "\n",
        "    # Prever a classe para cada ponto na grade\n",
        "    Z = model.predict(np.c_[xx.ravel(), yy.ravel()])\n",
        "    Z = Z.reshape(xx.shape)\n",
        "\n",
        "    # Plotar a fronteira de decisão\n",
        "    plt.contourf(xx, yy, Z, alpha=0.5, cmap=plt.cm.Paired)\n",
        "    plt.scatter(X[:, 0], X[:, 1], c=y, edgecolors='k', marker='o', cmap=plt.cm.Paired)\n",
        "    plt.xlabel('Feature 1')\n",
        "    plt.ylabel('Feature 2')\n",
        "    plt.title('Perceptron Decision Boundary')\n",
        "    plt.show()\n"
      ]
    },
    {
      "cell_type": "code",
      "execution_count": null,
      "id": "d0892ee9-8749-4f92-8876-53673bc83d6d",
      "metadata": {
        "colab": {
          "base_uri": "https://localhost:8080/",
          "height": 1000
        },
        "id": "d0892ee9-8749-4f92-8876-53673bc83d6d",
        "outputId": "5710f88d-4ca1-4d07-8396-8ed80b8dada9"
      },
      "outputs": [
        {
          "output_type": "display_data",
          "data": {
            "text/plain": [
              "<Figure size 640x480 with 1 Axes>"
            ],
            "image/png": "[encoded data removed]"
          },
          "metadata": {}
        },
        {
          "output_type": "stream",
          "name": "stdout",
          "text": [
            "taxaDeAprendizado: 0.01\n",
            "pesos: [ 10.78829     23.08755754  10.57429517  19.63034624  19.96523939\n",
            "  20.68425814  21.92990682  20.07140272  18.7448706   20.308012\n",
            "  19.6747366   -5.38944467  15.40727398  18.89043986  19.949592\n",
            "  51.8153      20.59856288 -68.5775132   19.99626546  22.14298294\n",
            "  29.82482591  19.97865764  66.9436256   25.889803    20.2222855\n",
            "  29.19758014 -92.63198222  18.93499796  19.78419649  21.6265578\n",
            "   9.2732528   23.1922244   18.08001978 -27.889352    20.11805407\n",
            "  20.45391014  23.90052182  17.36254548  19.07583728  19.91679798\n",
            " -92.812352    85.06900981  24.06510568  -1.36229882  19.87032647\n",
            "  19.70635277  22.12613946  15.90350999  15.84371622  20.04940948]\n"
          ]
        },
        {
          "output_type": "display_data",
          "data": {
            "text/plain": [
              "<Figure size 640x480 with 2 Axes>"
            ],
            "image/png": "[encoded data removed]"
          },
          "metadata": {}
        }
      ],
      "source": [
        "# Criar e treinar o Perceptron\n",
        "perceptron = Perceptron(learning_rate=0.01, n_iters=3000)\n",
        "perceptron.fit(X_train, y_train)\n",
        "\n",
        "# Plotar a fronteira de decisão caso seja 2 features\n",
        "#plot_decision_boundary(X_test, y_test, perceptron)\n",
        "\n",
        "# Plotar a taxa de aprendizado\n",
        "plot_learning_curve(perceptron.errors)\n",
        "\n",
        "from sklearn.metrics import confusion_matrix\n",
        "import seaborn as sns\n",
        "import matplotlib.pyplot as plt\n",
        "\n",
        "# Calcular a matriz de confusão\n",
        "cm = confusion_matrix(y_test, perceptron.predict(X_test))\n",
        "\n",
        "# Plotar a matriz de confusão\n",
        "sns.heatmap(cm, annot=True, fmt='d', cmap='Blues', xticklabels=['Classe 0', 'Classe 1'], yticklabels=['Classe 0', 'Classe 1'])\n",
        "plt.xlabel('Previsão')\n",
        "plt.ylabel('Verdadeiro')\n",
        "plt.title('Matriz de Confusão')\n",
        "plt.show()"
      ]
    },
    {
      "cell_type": "code",
      "execution_count": null,
      "id": "ca86f4d4-2d9e-494c-a3b3-b09fc49ade3c",
      "metadata": {
        "id": "ca86f4d4-2d9e-494c-a3b3-b09fc49ade3c"
      },
      "outputs": [],
      "source": []
    }
  ],
  "metadata": {
    "kernelspec": {
      "display_name": "Python 3 (ipykernel)",
      "language": "python",
      "name": "python3"
    },
    "language_info": {
      "codemirror_mode": {
        "name": "ipython",
        "version": 3
      },
      "file_extension": ".py",
      "mimetype": "text/x-python",
      "name": "python",
      "nbconvert_exporter": "python",
      "pygments_lexer": "ipython3",
      "version": "3.11.2"
    },
    "colab": {
      "provenance": []
    }
  },
  "nbformat": 4,
  "nbformat_minor": 5
}
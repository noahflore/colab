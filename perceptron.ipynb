{
  "cells": [
    {
      "cell_type": "markdown",
      "source": [
        "o código abaixo verificar o que tem dentro do Arquivo, mostrando se tem valores nulos, duplicadas e redundantes"
      ],
      "metadata": {
        "id": "gPWzCg6xe3XG"
      },
      "id": "gPWzCg6xe3XG"
    },
    {
      "cell_type": "code",
      "execution_count": null,
      "id": "1d0b0b51-f3dc-4d29-8e9c-a37665c7a814",
      "metadata": {
        "id": "1d0b0b51-f3dc-4d29-8e9c-a37665c7a814"
      },
      "outputs": [],
      "source": [
        "import pandas as pd\n",
        "import matplotlib.pyplot as plt\n",
        "\n",
        "# Carregar os dados\n",
        "caminho_arquivo = 'basededados/MiniBooNE_PID.txt'\n",
        "\n",
        "# Ler a primeira linha para obter o número de eventos de sinal e fundo\n",
        "with open(caminho_arquivo, 'r') as file:\n",
        "    primeira_linha = file.readline().strip().split()\n",
        "    num_sinal = int(primeira_linha[0])  # Número de eventos de sinal\n",
        "    num_fundo = int(primeira_linha[1])  # Número de eventos de fundo\n",
        "\n",
        "# Carregar os dados a partir da segunda linha\n",
        "data = pd.read_csv(caminho_arquivo, delimiter='\\s+', header=None, skiprows=1)\n",
        "\n",
        "# Adicionar rótulos\n",
        "data['label'] = [1] * num_sinal + [0] * num_fundo  # Usando 1 para sinal e 0 para fundo\n",
        "\n",
        "# 1. Análise Inicial\n",
        "print(\"=\"*50)\n",
        "print(\"ANÁLISE EXPLORATÓRIA BÁSICA\")\n",
        "print(\"=\"*50)\n",
        "\n",
        "print(\"\\nPrimeiras linhas dos dados:\")\n",
        "print(data.head())\n",
        "\n",
        "print(\"\\nÚltimas linhas dos dados:\")\n",
        "print(data.tail())\n",
        "\n",
        "# 2. Verificação de Valores Nulos\n",
        "print(\"\\n\" + \"=\"*50)\n",
        "print(\"VERIFICAÇÃO DE VALORES NULOS\")\n",
        "print(\"=\"*50)\n",
        "\n",
        "print(\"\\nTotal de valores nulos por coluna:\")\n",
        "print(data.isnull().sum())\n",
        "\n",
        "print(\"\\nTotal de valores nulos no dataset:\", data.isnull().sum().sum())\n",
        "\n",
        "# 3. Verificação de Dados Repetidos\n",
        "print(\"\\n\" + \"=\"*50)\n",
        "print(\"VERIFICAÇÃO DE DADOS REPETIDOS\")\n",
        "print(\"=\"*50)\n",
        "\n",
        "print(\"\\nTotal de linhas duplicadas:\", data.duplicated().sum())\n",
        "\n",
        "if data.duplicated().sum() > 0:\n",
        "    print(\"\\nExemplo de linhas duplicadas:\")\n",
        "    print(data[data.duplicated(keep=False)].sort_values(by=list(data.columns)).head())\n",
        "else:\n",
        "    print(\"\\nNenhuma linha duplicada encontrada.\")\n",
        "\n",
        "# 4. Verificação de Redundância (Correlação entre colunas)\n",
        "print(\"\\n\" + \"=\"*50)\n",
        "print(\"VERIFICAÇÃO DE REDUNDÂNCIA (CORRELAÇÃO)\")\n",
        "print(\"=\"*50)\n",
        "\n",
        "# Calcular matriz de correlação\n",
        "corr_matrix = data.corr()\n",
        "\n",
        "print(\"\\nMatriz de correlação (apenas as primeiras 10 colunas):\")\n",
        "print(corr_matrix.iloc[:10, :10])\n",
        "\n",
        "# Identificar pares de colunas altamente correlacionadas (threshold > 0.9)\n",
        "high_corr = []\n",
        "for i in range(len(corr_matrix.columns)):\n",
        "    for j in range(i):\n",
        "        if abs(corr_matrix.iloc[i, j]) > 0.9:\n",
        "            high_corr.append((corr_matrix.columns[i], corr_matrix.columns[j], corr_matrix.iloc[i, j]))\n",
        "\n",
        "if high_corr:\n",
        "    print(\"\\nColunas altamente correlacionadas (|corr| > 0.9):\")\n",
        "    for pair in high_corr:\n",
        "        print(f\"Coluna {pair[0]} e {pair[1]}: {pair[2]:.4f}\")\n",
        "else:\n",
        "    print(\"\\nNenhum par de colunas altamente correlacionado encontrado.\")\n",
        "\n",
        "# 5. Estatísticas Descritivas\n",
        "print(\"\\n\" + \"=\"*50)\n",
        "print(\"ESTATÍSTICAS DESCRITIVAS\")\n",
        "print(\"=\"*50)\n",
        "\n",
        "print(\"\\nEstatísticas básicas de cada coluna:\")\n",
        "print(data.describe())\n",
        "\n",
        "# Estatísticas por classe (sinal e fundo)\n",
        "print(\"\\nEstatísticas por classe (sinal=1, fundo=0):\")\n",
        "print(data.groupby('label').describe().transpose())\n",
        "\n",
        "# 6. Distribuição das Classes\n",
        "print(\"\\n\" + \"=\"*50)\n",
        "print(\"DISTRIBUIÇÃO DAS CLASSES\")\n",
        "print(\"=\"*50)\n",
        "\n",
        "class_dist = data['label'].value_counts()\n",
        "print(\"\\nContagem de cada classe:\")\n",
        "print(class_dist)\n",
        "\n",
        "print(\"\\nProporção das classes:\")\n",
        "print(class_dist / len(data))\n",
        "\n",
        "# Plotar distribuição das classes\n",
        "plt.figure(figsize=(8, 6))\n",
        "class_dist.plot(kind='bar', color=['blue', 'orange'])\n",
        "plt.title('Distribuição das Classes')\n",
        "plt.xlabel('Classe')\n",
        "plt.ylabel('Contagem')\n",
        "plt.xticks([0, 1], ['Fundo (0)', 'Sinal (1)'], rotation=0)\n",
        "plt.show()\n",
        "\n",
        "# 7. Valores Únicos\n",
        "print(\"\\n\" + \"=\"*50)\n",
        "print(\"VALORES ÚNICOS POR COLUNA\")\n",
        "print(\"=\"*50)\n",
        "\n",
        "print(\"\\nNúmero de valores únicos por coluna:\")\n",
        "print(data.nunique())\n",
        "\n",
        "# Verificar colunas com apenas um valor (constantes)\n",
        "constant_cols = [col for col in data.columns if data[col].nunique() == 1]\n",
        "if constant_cols:\n",
        "    print(\"\\nColunas com apenas um valor (constantes):\", constant_cols)\n",
        "else:\n",
        "    print(\"\\nNenhuma coluna constante encontrada.\")\n",
        "\n",
        "# 8. Histogramas das Features\n",
        "print(\"\\n\" + \"=\"*50)\n",
        "print(\"HISTOGRAMAS DAS FEATURES\")\n",
        "print(\"=\"*50)\n",
        "\n",
        "# Plotar histogramas para as primeiras 20 colunas (para não sobrecarregar)\n",
        "n_cols_to_plot = min(20, len(data.columns) - 1)  # Excluindo a coluna de label\n",
        "n_rows = (n_cols_to_plot // 5) + (1 if n_cols_to_plot % 5 else 0)\n",
        "\n",
        "plt.figure(figsize=(20, 4 * n_rows))\n",
        "for i, col in enumerate(data.columns[:n_cols_to_plot]):\n",
        "    plt.subplot(n_rows, 5, i+1)\n",
        "    data[col].hist(bins=50)\n",
        "    plt.title(f'Coluna {col}')\n",
        "    plt.tight_layout()\n",
        "plt.show()\n",
        "\n",
        "# 9. Boxplots por Classe (para as primeiras 5 features)\n",
        "print(\"\\n\" + \"=\"*50)\n",
        "print(\"BOXPLOTS POR CLASSE (PRIMEIRAS 5 FEATURES)\")\n",
        "print(\"=\"*50)\n",
        "\n",
        "plt.figure(figsize=(20, 10))\n",
        "for i, col in enumerate(data.columns[:5]):\n",
        "    plt.subplot(2, 3, i+1)\n",
        "    data.boxplot(column=col, by='label')\n",
        "    plt.title(f'Feature {col} por Classe')\n",
        "    plt.suptitle('')  # Remover título automático\n",
        "    plt.tight_layout()\n",
        "plt.show()\n",
        "\n",
        "# 10. Informações Gerais\n",
        "print(\"\\n\" + \"=\"*50)\n",
        "print(\"INFORMAÇÕES GERAIS DO DATASET\")\n",
        "print(\"=\"*50)\n",
        "\n",
        "print(\"\\nInformações sobre o dataset:\")\n",
        "data.info()"
      ]
    },
    {
      "cell_type": "code",
      "execution_count": null,
      "id": "08d425ea-7ab8-4c8d-a159-0d05e1cd7129",
      "metadata": {
        "id": "08d425ea-7ab8-4c8d-a159-0d05e1cd7129"
      },
      "outputs": [],
      "source": [
        "import numpy as np\n",
        "import matplotlib.pyplot as plt\n",
        "from sklearn.datasets import make_classification\n",
        "from sklearn.model_selection import train_test_split\n",
        "import pandas as pd\n",
        "# carregar bibliótecas necessárias\n",
        "\n"
      ]
    },
    {
      "cell_type": "markdown",
      "source": [
        "## carregar o Arquivo e coloca em um rótulo baseado no seu valor\n",
        "**caso o Arquivo contém dados irreguláres será necessário modifica o código ou adapta os dados**\n",
        "ele também remover dados nulos e duplicadas"
      ],
      "metadata": {
        "id": "U200A31Rfz_O"
      },
      "id": "U200A31Rfz_O"
    },
    {
      "cell_type": "code",
      "execution_count": null,
      "id": "5695e725-6a9b-4b1a-b82c-8d128d7e32eb",
      "metadata": {
        "scrolled": true,
        "id": "5695e725-6a9b-4b1a-b82c-8d128d7e32eb"
      },
      "outputs": [],
      "source": [
        "import pandas as pd\n",
        "import numpy as np\n",
        "\n",
        "# Caminho para o arquivo (substitua pelo caminho correto)\n",
        "caminho_arquivo = 'basededados/MiniBooNE_PID.txt'\n",
        "\n",
        "# Carregar os dados\n",
        "try:\n",
        "    # Ler a primeira linha para obter o número de eventos de sinal e fundo\n",
        "    with open(caminho_arquivo, 'r') as file:\n",
        "        primeira_linha = file.readline().strip().split()\n",
        "        num_sinal = int(primeira_linha[0])  # Número de eventos de sinal\n",
        "        num_fundo = int(primeira_linha[1])  # Número de eventos de fundo\n",
        "\n",
        "    # Carregar os dados a partir da segunda linha\n",
        "    data = pd.read_csv(caminho_arquivo, delimiter='\\s+', header=None, skiprows=1)\n",
        "\n",
        "    # Remover valores nulos, se houver\n",
        "    data.dropna(inplace=True)\n",
        "\n",
        "    # Remover linhas duplicadas\n",
        "    data.drop_duplicates(inplace=True)\n",
        "\n",
        "    # Garantir que o número de rótulos corresponda ao número de linhas nos dados\n",
        "    total_registros = len(data)\n",
        "    num_sinal = min(num_sinal, total_registros)\n",
        "    num_fundo = min(num_fundo, total_registros - num_sinal)\n",
        "\n",
        "    # Criar rótulos\n",
        "    y = np.concatenate([np.ones(num_sinal), np.ones(num_fundo) * -1])\n",
        "    data = data.iloc[:len(y)]  # Garantir que os dados e os rótulos tenham o mesmo tamanho\n",
        "    data['label'] = y\n",
        "\n",
        "    print(\"Dados carregados com sucesso!\")\n",
        "    print(\"Formato dos dados após limpeza:\", data.shape)\n",
        "    print(\"\\nPrimeiras linhas dos dados limpos:\")\n",
        "    print(data.head())\n",
        "\n",
        "except Exception as e:\n",
        "    print(f\"Erro ao carregar o arquivo: {e}\")\n",
        "\n",
        "# Reduzir o número de dados para 10000 (opcional)\n",
        "data_reduzido = data.sample(n=min(10000, len(data)), random_state=10)\n",
        "\n",
        "# Separar features (X) e rótulos (y)\n",
        "X = data_reduzido.iloc[:, :-1].values  # Todas as colunas, exceto a última (rótulos)\n",
        "y = data_reduzido.iloc[:, -1].values   # Última coluna (rótulos)\n",
        "\n",
        "# Verificar os dados reduzidos\n",
        "print(\"\\nFormato dos dados reduzidos (X_reduzido):\", X.shape)\n",
        "print(\"Formato dos rótulos reduzidos (y_reduzido):\", y.shape)\n"
      ]
    },
    {
      "cell_type": "code",
      "source": [
        "# Verificar a distribuição das classes\n",
        "from collections import Counter\n",
        "\n",
        "class_counts = Counter(y)\n",
        "print(\"\\nDistribuição original das classes:\")\n",
        "print(f\"Classe 1 (sinal): {class_counts[1]} amostras\")\n",
        "print(f\"Classe -1 (fundo): {class_counts[-1]} amostras\")\n",
        "print(f\"Proporção: {class_counts[1]}:{class_counts[-1]}\")"
      ],
      "metadata": {
        "id": "1OtNlS9QduFG",
        "colab": {
          "base_uri": "https://localhost:8080/"
        },
        "outputId": "79bff38c-2e51-49a3-e860-9f2ee8cf5968"
      },
      "id": "1OtNlS9QduFG",
      "execution_count": null,
      "outputs": [
        {
          "output_type": "stream",
          "name": "stdout",
          "text": [
            "\n",
            "Distribuição original das classes:\n",
            "Classe 1 (sinal): 2731 amostras\n",
            "Classe -1 (fundo): 7269 amostras\n",
            "Proporção: 2731:7269\n"
          ]
        }
      ]
    },
    {
      "cell_type": "markdown",
      "source": [
        "foi necessário usar um undersample para balancear os dados, caso o perceptron erra muito deve utiliza essa função abaixo algumas vezes para embaralhar os dados."
      ],
      "metadata": {
        "id": "jeWiWeKGm0RD"
      },
      "id": "jeWiWeKGm0RD"
    },
    {
      "cell_type": "code",
      "source": [
        "def manual_undersample(X, y):\n",
        "    # Contar as classes\n",
        "    class_counts = Counter(y)\n",
        "    minority_class = min(class_counts, key=class_counts.get)\n",
        "    minority_count = class_counts[minority_class]\n",
        "\n",
        "    # Separar por classes\n",
        "    class_indices = {cls: np.where(y == cls)[0] for cls in class_counts}\n",
        "\n",
        "    # Amostrar aleatoriamente\n",
        "    sampled_indices = []\n",
        "    for cls in class_counts:\n",
        "        indices = class_indices[cls]\n",
        "        if len(indices) > minority_count:\n",
        "            indices = np.random.choice(indices, size=minority_count, replace=False)\n",
        "        sampled_indices.extend(indices)\n",
        "\n",
        "    # Embaralhar os índices\n",
        "    np.random.shuffle(sampled_indices)\n",
        "\n",
        "    return X[sampled_indices], y[sampled_indices]\n",
        "\n",
        "# Aplicar undersampling\n",
        "X_under, y_under = manual_undersample(X, y)\n",
        "\n",
        "# Verificar o resultado\n",
        "print(\"\\nApós undersampling:\")\n",
        "print(f\"Classe 1: {sum(y_under == 1)}\")\n",
        "print(f\"Classe -1: {sum(y_under == -1)}\")"
      ],
      "metadata": {
        "colab": {
          "base_uri": "https://localhost:8080/"
        },
        "id": "dPbRSVEod4gI",
        "outputId": "7889d593-e3c6-4cd6-ebe3-88d45590042d"
      },
      "id": "dPbRSVEod4gI",
      "execution_count": null,
      "outputs": [
        {
          "output_type": "stream",
          "name": "stdout",
          "text": [
            "\n",
            "Após undersampling:\n",
            "Classe 1: 2731\n",
            "Classe -1: 2731\n"
          ]
        }
      ]
    },
    {
      "cell_type": "code",
      "execution_count": null,
      "id": "d86a1c69-fff6-4566-a98a-3e5a0cde6919",
      "metadata": {
        "colab": {
          "base_uri": "https://localhost:8080/"
        },
        "id": "d86a1c69-fff6-4566-a98a-3e5a0cde6919",
        "outputId": "06cb4820-84de-4bc5-a1c6-532bbf51de34"
      },
      "outputs": [
        {
          "output_type": "stream",
          "name": "stdout",
          "text": [
            "Dados de treino (X_train):\n",
            "[[ 4.85497e+00  1.02924e+00  2.06170e+01 ...  5.63559e+00  2.69535e+00\n",
            "   3.10087e-01]\n",
            " [ 3.49936e+00  2.89521e-01  8.75638e+01 ...  1.29392e+00  2.81602e-01\n",
            "   2.47142e-01]\n",
            " [ 6.18179e+00  1.22595e+00  1.58676e+02 ...  2.54472e+00  1.51833e+00\n",
            "   2.15121e-01]\n",
            " ...\n",
            " [ 3.53757e+00  2.17974e+00  5.40000e+01 ...  1.84457e+00 -1.59264e-01\n",
            "   2.81750e-01]\n",
            " [ 3.68288e+00  1.35498e+00  3.23389e+01 ...  4.82532e-01 -8.11704e-02\n",
            "   1.59590e-01]\n",
            " [ 4.03563e+00  1.78500e+00  8.84399e+01 ...  2.48215e+00 -3.36580e-01\n",
            "   2.79736e-01]]\n",
            "Rótulos de treino (y_train):\n",
            "[ 1.  1. -1. ...  1. -1.  1.]\n",
            "\n",
            "Dados de teste (X_test):\n",
            "[[5.44967e+00 2.61474e+00 1.60619e+02 ... 4.01921e+00 5.43370e+00\n",
            "  1.37087e-01]\n",
            " [6.85771e+00 1.51907e+00 7.43293e+01 ... 5.43909e+00 3.17305e+00\n",
            "  1.87134e-01]\n",
            " [6.85666e+00 1.39564e+00 1.31669e+02 ... 2.58361e+00 1.64443e+00\n",
            "  2.66166e-01]\n",
            " ...\n",
            " [3.84807e+00 1.65397e+00 1.26245e+02 ... 1.10406e+00 7.97017e-01\n",
            "  2.04388e-01]\n",
            " [4.35648e+00 1.64692e+00 1.27381e+02 ... 1.54409e+00 1.99711e+00\n",
            "  2.78419e-01]\n",
            " [2.87944e+00 3.06018e-01 3.68908e+01 ... 8.28903e-01 3.69609e-01\n",
            "  2.00859e-01]]\n",
            "Rótulos de teste (y_test):\n",
            "[-1. -1. -1. ... -1. -1.  1.]\n"
          ]
        }
      ],
      "source": [
        "from sklearn.model_selection import train_test_split\n",
        "\n",
        "# Dividir os dados em treino e teste\n",
        "X_train, X_test, y_train, y_test = train_test_split(X_under, y_under, test_size=0.2, random_state=45)\n",
        "'''essa função separa os dados de X e Y entre treinamento e teste onde o test_size dividi em portagem,\n",
        "exemplo, 0.2% 20% para teste e 80% para treino '''\n",
        "\n",
        "print(\"Dados de treino (X_train):\")\n",
        "print(X_train)\n",
        "print(\"Rótulos de treino (y_train):\")\n",
        "print(y_train)\n",
        "\n",
        "print(\"\\nDados de teste (X_test):\")\n",
        "print(X_test)\n",
        "print(\"Rótulos de teste (y_test):\")\n",
        "print(y_test)"
      ]
    },
    {
      "cell_type": "code",
      "execution_count": null,
      "id": "27984497-8b10-4df7-8b26-a262224c56bc",
      "metadata": {
        "id": "27984497-8b10-4df7-8b26-a262224c56bc"
      },
      "outputs": [],
      "source": [
        "class Perceptron:\n",
        "    def __init__(self, learning_rate=0.01, n_iters=1000):\n",
        "        self.lr = learning_rate # taxa de aprendizado se for um valor baixo 0.001% então o acerto é alto mas demorado\n",
        "        self.n_iters = n_iters # quantidades de interações em todos os conjuntos\n",
        "        self.weights = None  # peso iniciado como none\n",
        "        self.bias = None # bias como none\n",
        "        self.errors = [] # quantidades de erros\n",
        "\n",
        "    def fit(self, X, y):\n",
        "        n_samples, n_features = X.shape # dividi entre linhas e colunas os pares de dados\n",
        "\n",
        "        # Inicializar pesos e bias\n",
        "        self.weights = np.zeros(n_features) # os pesos são iniciados em zero um para cada coluna\n",
        "        self.bias = 0 # bias iniciado em zero\n",
        "\n",
        "        ocorrencia=0 # para registra ocorrência de zero erro\n",
        "\n",
        "        # Treinamento\n",
        "        for _ in range(self.n_iters): # aqui acontece a quantidade de interação\n",
        "            error = 0  # Contador de erros para a época atual\n",
        "            for idx, x_i in enumerate(X): # X é separado entre conjuto x_i e o idx\n",
        "                linear_output = np.dot(x_i, self.weights) + self.bias\n",
        "                '''\n",
        "                  o np.dot retorna o resultado da multiplicação entre o conjuto e os pesos, depois soma ao bias\n",
        "                '''\n",
        "                y_pred = np.where(linear_output >= 0, 1, -1) #se o linear_output for maior que zero o y_pred recebe 1 caso contraio recebe zero\n",
        "                '''\n",
        "                    observação caso ocorra erro verificar se a saída é 1 e 0 ou 1 e -1 , deve se binário\n",
        "                '''\n",
        "\n",
        "                # Armazenar o número de erros da época atual\n",
        "                if y_pred != y[idx]:\n",
        "                    # Atualizar pesos e bias\n",
        "                    update = self.lr * (y[idx] - y_pred) # subtraia o label verdadeiro pela previsão e depois multiplica pela taxa de aprendizado\n",
        "                    self.weights += update * x_i # atualiza os pesos multiplicando o erro com o conjuto\n",
        "                    self.bias += update #atualiza o bias\n",
        "                    error += 1  # Incrementar o contador de erros\n",
        "                else:\n",
        "                    ocorrencia+=1 # se não tiver erros a var 'ocorrencia' é incrementada\n",
        "\n",
        "                self.errors.append(error)\n",
        "\n",
        "                # Parar se não houver erros e tiver mais de 500 ocorrências de zeros erros então assumi que perceptron foi bem treinado\n",
        "                if error == 0 and ocorrencia > 500:\n",
        "                    break\n",
        "\n",
        "    def predict(self, X): # faz a previsão\n",
        "        linear_output = np.dot(X, self.weights) + self.bias\n",
        "        print(f'taxaDeAprendizado: {self.lr}')\n",
        "        print(f'pesos: {self.weights}')\n",
        "        return np.where(linear_output >= 0, 1, -1)\n",
        "\n",
        "# Função para plotar a taxa de aprendizado (erros ao longo das épocas)\n",
        "def plot_learning_curve(errors):\n",
        "    plt.plot(range(len(errors)), errors, marker='o')\n",
        "    plt.xlabel('Época')\n",
        "    plt.ylabel('Número de erros')\n",
        "    plt.title('Taxa de aprendizado ao longo das épocas')\n",
        "    plt.grid(True)\n",
        "    plt.show()\n",
        "\n",
        "# Função para plotar a fronteira de decisão\n",
        "def plot_decision_boundary(X, y, model):\n",
        "    x_min, x_max = X[:, 0].min() - 1, X[:, 0].max() + 1\n",
        "    y_min, y_max = X[:, 1].min() - 1, X[:, 1].max() + 1\n",
        "    xx, yy = np.meshgrid(np.arange(x_min, x_max, 0.01),\n",
        "                         np.arange(y_min, y_max, 0.01))\n",
        "\n",
        "    # Prever a classe para cada ponto na grade\n",
        "    Z = model.predict(np.c_[xx.ravel(), yy.ravel()])\n",
        "    Z = Z.reshape(xx.shape)\n",
        "\n",
        "    # Plotar a fronteira de decisão\n",
        "    plt.contourf(xx, yy, Z, alpha=0.5, cmap=plt.cm.Paired)\n",
        "    plt.scatter(X[:, 0], X[:, 1], c=y, edgecolors='k', marker='o', cmap=plt.cm.Paired)\n",
        "    plt.xlabel('Feature 1')\n",
        "    plt.ylabel('Feature 2')\n",
        "    plt.title('Perceptron Decision Boundary')\n",
        "    plt.show()\n"
      ]
    },
    {
      "cell_type": "code",
      "execution_count": null,
      "id": "d0892ee9-8749-4f92-8876-53673bc83d6d",
      "metadata": {
        "colab": {
          "base_uri": "https://localhost:8080/",
          "height": 1000
        },
        "id": "d0892ee9-8749-4f92-8876-53673bc83d6d",
        "outputId": "b83db4f6-95de-407f-f8a4-2ac6c812f6fd"
      },
      "outputs": [
        {
          "output_type": "display_data",
          "data": {
            "text/plain": [
              "<Figure size 640x480 with 1 Axes>"
            ],
            "image/png": "[encoded data removed]"
          },
          "metadata": {}
        },
        {
          "output_type": "stream",
          "name": "stdout",
          "text": [
            "taxaDeAprendizado: 0.01\n",
            "pesos: [-8.97179855e+02  1.22782283e+03 -5.05773489e+00 -7.08335486e+01\n",
            "  1.51040501e+00  1.30801707e+02  5.68766358e+02  8.18971882e+01\n",
            "  2.43710041e+02  8.61987067e+01  5.75113745e+02 -4.93548437e+00\n",
            " -1.41481358e+03 -9.29142220e+01 -6.97414662e+01  2.62320200e+01\n",
            "  6.47956917e+01 -7.51335280e+01  1.25953192e+01  8.04352659e+02\n",
            "  1.05462088e+03  3.15276581e+01  1.52395400e+02  4.78447831e+02\n",
            "  1.04036210e+02  6.45294420e+02 -4.38005389e+01  1.28366050e+00\n",
            " -3.71017488e+01  4.29345924e+02 -5.23912101e+02  8.25330403e+02\n",
            " -2.55118982e+02 -2.00665240e+01  9.53564133e+00  1.43501271e+02\n",
            "  8.15976590e+02 -6.23015118e+02 -5.85263463e+01  1.23266367e+01\n",
            " -6.29600820e+01  5.40052477e+01  6.31967327e+02 -3.48503992e+02\n",
            " -7.76469021e+00  6.21820140e+00  2.28679014e+02  5.58734058e+01\n",
            " -7.07714753e+02  2.70889998e+01]\n"
          ]
        },
        {
          "output_type": "display_data",
          "data": {
            "text/plain": [
              "<Figure size 640x480 with 2 Axes>"
            ],
            "image/png": "[encoded data removed]"
          },
          "metadata": {}
        }
      ],
      "source": [
        "# Criar e treinar o Perceptron\n",
        "perceptron = Perceptron(learning_rate=0.01, n_iters=3000)\n",
        "perceptron.fit(X_train, y_train)\n",
        "\n",
        "# Plotar a fronteira de decisão caso seja 2 features\n",
        "#plot_decision_boundary(X_test, y_test, perceptron)\n",
        "\n",
        "# Plotar a taxa de aprendizado\n",
        "plot_learning_curve(perceptron.errors)\n",
        "\n",
        "from sklearn.metrics import confusion_matrix\n",
        "import seaborn as sns\n",
        "import matplotlib.pyplot as plt\n",
        "\n",
        "# Calcular a matriz de confusão\n",
        "cm = confusion_matrix(y_test, perceptron.predict(X_test))\n",
        "\n",
        "# Plotar a matriz de confusão\n",
        "sns.heatmap(cm, annot=True, fmt='d', cmap='Blues', xticklabels=['Classe 0', 'Classe 1'], yticklabels=['Classe 0', 'Classe 1'])\n",
        "plt.xlabel('Previsão')\n",
        "plt.ylabel('Verdadeiro')\n",
        "plt.title('Matriz de Confusão')\n",
        "plt.show()"
      ]
    },
    {
      "cell_type": "markdown",
      "source": [
        "os gráficos acima mostram uma matriz de confusão e um plot de erros, o Perceptron treinar até alcança 500 interações sem erros ou números de épocas atingi o límite, fiz vários testes e todos eles mostram o mesmo padrão onde uma vez que acerta a previsão as próximas interações seram de acertos continuos"
      ],
      "metadata": {
        "id": "qfLG2OVOxrxa"
      },
      "id": "qfLG2OVOxrxa"
    },
    {
      "cell_type": "code",
      "execution_count": null,
      "id": "ca86f4d4-2d9e-494c-a3b3-b09fc49ade3c",
      "metadata": {
        "id": "ca86f4d4-2d9e-494c-a3b3-b09fc49ade3c"
      },
      "outputs": [],
      "source": []
    }
  ],
  "metadata": {
    "kernelspec": {
      "display_name": "Python 3 (ipykernel)",
      "language": "python",
      "name": "python3"
    },
    "language_info": {
      "codemirror_mode": {
        "name": "ipython",
        "version": 3
      },
      "file_extension": ".py",
      "mimetype": "text/x-python",
      "name": "python",
      "nbconvert_exporter": "python",
      "pygments_lexer": "ipython3",
      "version": "3.11.2"
    },
    "colab": {
      "provenance": []
    }
  },
  "nbformat": 4,
  "nbformat_minor": 5
}